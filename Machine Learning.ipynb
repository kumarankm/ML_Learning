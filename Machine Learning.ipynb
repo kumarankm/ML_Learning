{
  "cells": [
    {
      "cell_type": "code",
      "execution_count": null,
      "id": "76d74bfc-a34e-45de-8ecf-80e8a36b5a81",
      "metadata": {
        "id": "76d74bfc-a34e-45de-8ecf-80e8a36b5a81",
        "outputId": "c312fd3a-efc6-48d8-c753-294ac1b075b3"
      },
      "outputs": [
        {
          "name": "stdout",
          "output_type": "stream",
          "text": [
            "Hello ready to learn ML?\n"
          ]
        }
      ],
      "source": [
        "print('Hello ready to learn ML?')"
      ]
    },
    {
      "cell_type": "code",
      "execution_count": null,
      "id": "6f19d195-f7d0-49e7-8c70-91070de51e14",
      "metadata": {
        "id": "6f19d195-f7d0-49e7-8c70-91070de51e14"
      },
      "outputs": [],
      "source": []
    }
  ],
  "metadata": {
    "kernelspec": {
      "display_name": "Python 3 (ipykernel)",
      "language": "python",
      "name": "python3"
    },
    "language_info": {
      "codemirror_mode": {
        "name": "ipython",
        "version": 3
      },
      "file_extension": ".py",
      "mimetype": "text/x-python",
      "name": "python",
      "nbconvert_exporter": "python",
      "pygments_lexer": "ipython3",
      "version": "3.12.3"
    },
    "colab": {
      "provenance": []
    }
  },
  "nbformat": 4,
  "nbformat_minor": 5
}